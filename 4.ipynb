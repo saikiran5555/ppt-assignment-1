{
 "cells": [
  {
   "cell_type": "code",
   "execution_count": 1,
   "id": "c420ce6b",
   "metadata": {},
   "outputs": [
    {
     "name": "stdout",
     "output_type": "stream",
     "text": [
      "[1, 2, 4]\n"
     ]
    }
   ],
   "source": [
    "def plusOne(digits):\n",
    "    n = len(digits)\n",
    "    carry = 1\n",
    "    \n",
    "    for i in range(n - 1, -1, -1):\n",
    "        digits[i] += carry\n",
    "        \n",
    "        if digits[i] == 10:\n",
    "            digits[i] = 0\n",
    "            carry = 1\n",
    "        else:\n",
    "            carry = 0\n",
    "            break\n",
    "    \n",
    "    if carry == 1:\n",
    "        digits.insert(0, 1)\n",
    "    \n",
    "    return digits\n",
    "digits = [1,2,3]\n",
    "result = plusOne(digits)\n",
    "print(result)"
   ]
  },
  {
   "cell_type": "code",
   "execution_count": null,
   "id": "2df0fe12",
   "metadata": {},
   "outputs": [],
   "source": []
  }
 ],
 "metadata": {
  "kernelspec": {
   "display_name": "Python 3 (ipykernel)",
   "language": "python",
   "name": "python3"
  },
  "language_info": {
   "codemirror_mode": {
    "name": "ipython",
    "version": 3
   },
   "file_extension": ".py",
   "mimetype": "text/x-python",
   "name": "python",
   "nbconvert_exporter": "python",
   "pygments_lexer": "ipython3",
   "version": "3.10.9"
  }
 },
 "nbformat": 4,
 "nbformat_minor": 5
}
